{
 "cells": [
  {
   "attachments": {},
   "cell_type": "markdown",
   "metadata": {},
   "source": [
    "## Polynomial Regression Model"
   ]
  },
  {
   "cell_type": "code",
   "execution_count": 1,
   "metadata": {},
   "outputs": [],
   "source": [
    "import numpy as np\n",
    "import pandas as pd\n",
    "from scipy.optimize import fsolve"
   ]
  },
  {
   "cell_type": "code",
   "execution_count": 2,
   "metadata": {},
   "outputs": [
    {
     "name": "stdout",
     "output_type": "stream",
     "text": [
      "a0 = 4.081632653061172\n",
      "a1 = -1.9370748299319442\n",
      "a2 = 0.39795918367346667\n",
      "The required quadratic polynomial model is y = +4.081632653061172 -1.9370748299319442x +0.39795918367346667x^2\n",
      "y = -3831.3265306121884\n"
     ]
    }
   ],
   "source": [
    "\"\"\"x = np.array([3, 4, 5, 6, 7])\n",
    "y = np.array([2.5, 3.2, 3.8, 6.5, 12]) \"\"\"\n",
    "\n",
    "x = np.array([1, 3, 4, 7, 9])\n",
    "y = np.array([1, 6, 1, 8, 20])\n",
    "x2 = np.square(x)\n",
    "x3 = np.power(x, 3)\n",
    "x4 = np.power(x, 4)\n",
    "yx = np.multiply(y,x)\n",
    "yx2 = np.multiply(y, x2)\n",
    "sx = np.sum(x)\n",
    "sy = np.sum(y)\n",
    "sx2 = np.sum(x2)\n",
    "sx3 = np.sum(x3)\n",
    "sx4 = np.sum(x4)\n",
    "syx = np.sum(yx)\n",
    "syx2 = np.sum(yx2)\n",
    "n = np.size(x)\n",
    "\n",
    "def eqn(var):\n",
    "    a0, a1, a2 = var\n",
    "    eqn1 = n*a0 + sx*a1 + sx2*a2 - sy\n",
    "    eqn2 = sx*a0 + sx2*a1 + sx3*a2 - syx\n",
    "    eqn3 = sx2*a0 + sx3*a1 + sx4*a2 - syx2\n",
    "    return eqn1, eqn2, eqn3\n",
    "\n",
    "guess = [0, 0, 0]\n",
    "res = fsolve(eqn, guess)\n",
    "a0, a1, a2 = res\n",
    "\n",
    "print(\"a0 =\", a0)\n",
    "print(\"a1 =\", a1)\n",
    "print(\"a2 =\", a2)\n",
    "\n",
    "print(\"The required quadratic polynomial model is y = {:+} {:+}x {:+}x^2\".format(a0, a1, a2))\n",
    "\n",
    "x = int(input(\"Enter the value for x & find its y:\"))\n",
    "print(\"y =\", a0 + a1*x + a1*x**2)\n"
   ]
  }
 ],
 "metadata": {
  "kernelspec": {
   "display_name": "Concepts",
   "language": "python",
   "name": "python3"
  },
  "language_info": {
   "codemirror_mode": {
    "name": "ipython",
    "version": 3
   },
   "file_extension": ".py",
   "mimetype": "text/x-python",
   "name": "python",
   "nbconvert_exporter": "python",
   "pygments_lexer": "ipython3",
   "version": "3.11.2"
  },
  "orig_nbformat": 4
 },
 "nbformat": 4,
 "nbformat_minor": 2
}
