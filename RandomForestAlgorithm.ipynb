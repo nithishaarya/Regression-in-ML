{
 "cells": [
  {
   "attachments": {},
   "cell_type": "markdown",
   "metadata": {},
   "source": [
    "# Random Forest Algorithm from SCRATCH"
   ]
  },
  {
   "attachments": {},
   "cell_type": "markdown",
   "metadata": {},
   "source": [
    "### Dataset For training"
   ]
  },
  {
   "cell_type": "code",
   "execution_count": 82,
   "metadata": {},
   "outputs": [
    {
     "data": {
      "text/plain": [
       "'\\nColor   Diameter    Label\\n\\nGreen   3           Apple\\nYellow  3           Apple\\nRed     1           Grape\\nRed     1           Grape\\nYellow  3           Lemon\\n'"
      ]
     },
     "execution_count": 82,
     "metadata": {},
     "output_type": "execute_result"
    }
   ],
   "source": [
    "\"\"\"\n",
    "Color   Diameter    Label\n",
    "\n",
    "Green   3           Apple\n",
    "Yellow  3           Apple\n",
    "Red     1           Grape\n",
    "Red     1           Grape\n",
    "Yellow  3           Lemon\n",
    "\"\"\""
   ]
  },
  {
   "cell_type": "code",
   "execution_count": 83,
   "metadata": {},
   "outputs": [],
   "source": [
    "from collections import Counter\n",
    "import random"
   ]
  },
  {
   "cell_type": "code",
   "execution_count": 84,
   "metadata": {},
   "outputs": [],
   "source": [
    "class Question:\n",
    "    def __init__(self, column, value):\n",
    "        self.column = column\n",
    "        self.value = value\n",
    "\n",
    "    def match(self, example):\n",
    "        val = example[self.column]\n",
    "        if is_numeric(val):\n",
    "            return val >= self.value\n",
    "        else:\n",
    "            return val == self.value\n",
    "\n",
    "    def __repr__(self):\n",
    "        condition = \"==\"\n",
    "        if is_numeric(self.value):\n",
    "            condition = \">=\"\n",
    "        return \"Is %s %s %s?\" % (header[self.column], condition, str(self.value))\n"
   ]
  },
  {
   "cell_type": "code",
   "execution_count": 85,
   "metadata": {},
   "outputs": [],
   "source": [
    "def partition(rows, question):\n",
    "    true_rows, false_rows = [], []\n",
    "    for row in rows:\n",
    "        if question.match(row):\n",
    "            true_rows.append(row)\n",
    "        else:\n",
    "            false_rows.append(row)\n",
    "    return true_rows, false_rows"
   ]
  },
  {
   "cell_type": "code",
   "execution_count": 86,
   "metadata": {},
   "outputs": [],
   "source": [
    "# Calculate the Gini impurity for a list of rows\n",
    "def gini(rows):\n",
    "    counts = class_counts(rows)\n",
    "    impurity = 1\n",
    "    for lbl in counts:\n",
    "        prob_of_lbl = counts[lbl] / float(len(rows))\n",
    "        impurity -= prob_of_lbl**2\n",
    "    return impurity"
   ]
  },
  {
   "cell_type": "code",
   "execution_count": 87,
   "metadata": {},
   "outputs": [],
   "source": [
    "# Calculate the information gain\n",
    "def info_gain(left, right, current_uncertainty):\n",
    "    p = float(len(left)) / (len(left) + len(right))\n",
    "    return current_uncertainty - p * gini(left) - (1 - p) * gini(right)"
   ]
  },
  {
   "cell_type": "code",
   "execution_count": 88,
   "metadata": {},
   "outputs": [],
   "source": [
    "# Find the best question to split the dataset based on information gain\n",
    "def find_best_split(rows):\n",
    "    best_gain = 0\n",
    "    best_question = None\n",
    "    current_uncertainty = gini(rows)\n",
    "    n_features = len(rows[0]) - 1\n",
    "\n",
    "    for col in range(n_features):\n",
    "        values = set([row[col] for row in rows])\n",
    "        for val in values:\n",
    "            question = Question(col, val)\n",
    "            true_rows, false_rows = partition(rows, question)\n",
    "            if len(true_rows) == 0 or len(false_rows) == 0:\n",
    "                continue\n",
    "\n",
    "            gain = info_gain(true_rows, false_rows, current_uncertainty)\n",
    "\n",
    "            if gain >= best_gain:\n",
    "                best_gain, best_question = gain, question\n",
    "\n",
    "    return best_gain, best_question"
   ]
  },
  {
   "cell_type": "code",
   "execution_count": 89,
   "metadata": {},
   "outputs": [],
   "source": [
    "class Leaf:\n",
    "    def __init__(self, rows):\n",
    "        self.predictions = class_counts(rows)\n",
    "\n",
    "\n",
    "# Class representing a decision node (question)\n",
    "class DecisionNode:\n",
    "    def __init__(self, question, true_branch, false_branch):\n",
    "        self.question = question\n",
    "        self.true_branch = true_branch\n",
    "        self.false_branch = false_branch"
   ]
  },
  {
   "cell_type": "code",
   "execution_count": 90,
   "metadata": {},
   "outputs": [],
   "source": [
    "# Build the decision tree recursively\n",
    "def build_tree(rows):\n",
    "    gain, question = find_best_split(rows)\n",
    "    if gain == 0:\n",
    "        return Leaf(rows)\n",
    "\n",
    "    true_rows, false_rows = partition(rows, question)\n",
    "    true_branch = build_tree(true_rows)\n",
    "    false_branch = build_tree(false_rows)\n",
    "\n",
    "    return DecisionNode(question, true_branch, false_branch)\n",
    "\n",
    "\n",
    "# Print the decision tree\n",
    "def print_tree(node, spacing=\"\"):\n",
    "    if isinstance(node, Leaf):\n",
    "        print(spacing + \"Predict\", node.predictions)\n",
    "        return\n",
    "\n",
    "    print(spacing + str(node.question))\n",
    "\n",
    "    print(spacing + '--> True:')\n",
    "    print_tree(node.true_branch, spacing + \"    \")\n",
    "\n",
    "    print(spacing + '--> False:')\n",
    "    print_tree(node.false_branch, spacing + \"   \")\n",
    "\n",
    "\n",
    "# Classify a new input using the decision tree\n",
    "def classify(row, node):\n",
    "    if isinstance(node, Leaf):\n",
    "        return node.predictions\n",
    "\n",
    "    if node.question.match(row):\n",
    "        return classify(row, node.true_branch)\n",
    "    else:\n",
    "        return classify(row, node.false_branch)\n",
    "\n",
    "\n",
    "# Count the occurrences of each class label in the dataset\n",
    "def class_counts(rows):\n",
    "    counts = Counter()\n",
    "    for row in rows:\n",
    "        label = row[-1]\n",
    "        counts[label] += 1\n",
    "    return counts\n",
    "\n",
    "\n",
    "# Check if a value is numeric\n",
    "def is_numeric(value):\n",
    "    return isinstance(value, int) or isinstance(value, float)"
   ]
  },
  {
   "cell_type": "code",
   "execution_count": 91,
   "metadata": {},
   "outputs": [],
   "source": [
    "# Random Forest class\n",
    "class RandomForest:\n",
    "    def __init__(self, num_trees):\n",
    "        self.num_trees = num_trees\n",
    "        self.trees = []\n",
    "\n",
    "    def fit(self, data):\n",
    "        for _ in range(self.num_trees):\n",
    "            # Randomly select a subset of the data\n",
    "            subset = self.get_random_subset(data)\n",
    "            tree = build_tree(subset)\n",
    "            self.trees.append(tree)\n",
    "\n",
    "\n",
    "\n",
    "# Update the print_leaf function to include probabilities\n",
    "    def print_leaf(counts):\n",
    "        total = sum(counts.values()) * 1.0\n",
    "        probs = {}\n",
    "        for lbl in counts.keys():\n",
    "            probs[lbl] = f\"{counts[lbl] / total * 100:.0f}%\"\n",
    "        return probs\n",
    "    \n",
    "# Update the predict method in the RandomForest class to return predictions with probabilities\n",
    "    def predict(self, sample):\n",
    "        predictions = []\n",
    "        for tree in self.trees:\n",
    "            prediction = print_leaf(classify(sample, tree))\n",
    "        predictions.append(prediction)\n",
    "        return self.get_majority_vote(predictions)\n",
    "\n",
    "\n",
    "    def get_random_subset(self, data):\n",
    "        subset = []\n",
    "        n = len(data)\n",
    "        for _ in range(n):\n",
    "            index = random.randint(0, n - 1)\n",
    "            subset.append(data[index])\n",
    "        return subset\n",
    "\n",
    "    def get_majority_vote(self, predictions):\n",
    "        counts = Counter(tuple(prediction.items()) for prediction in predictions)\n",
    "        majority_vote = max(counts, key=counts.get)\n",
    "        return dict(majority_vote)\n",
    "\n"
   ]
  },
  {
   "cell_type": "code",
   "execution_count": 92,
   "metadata": {},
   "outputs": [
    {
     "name": "stdout",
     "output_type": "stream",
     "text": [
      "Decision Tree:\n",
      "Is diameter >= 3?\n",
      "--> True:\n",
      "    Is color == Yellow?\n",
      "    --> True:\n",
      "        Predict Counter({'Apple': 1, 'Lemon': 1})\n",
      "    --> False:\n",
      "       Predict Counter({'Apple': 1})\n",
      "--> False:\n",
      "   Predict Counter({'Grape': 2})\n",
      "\n",
      "Random Forest:\n",
      "Tree 1\n",
      "Is diameter >= 3?\n",
      "--> True:\n",
      "    Is color == Yellow?\n",
      "    --> True:\n",
      "        Predict Counter({'Lemon': 1})\n",
      "    --> False:\n",
      "       Predict Counter({'Apple': 2})\n",
      "--> False:\n",
      "   Predict Counter({'Grape': 2})\n",
      "\n",
      "Tree 2\n",
      "Is diameter >= 3?\n",
      "--> True:\n",
      "    Is color == Yellow?\n",
      "    --> True:\n",
      "        Predict Counter({'Lemon': 2, 'Apple': 1})\n",
      "    --> False:\n",
      "       Predict Counter({'Apple': 1})\n",
      "--> False:\n",
      "   Predict Counter({'Grape': 1})\n",
      "\n",
      "Tree 3\n",
      "Is diameter >= 3?\n",
      "--> True:\n",
      "    Is color == Yellow?\n",
      "    --> True:\n",
      "        Predict Counter({'Lemon': 1})\n",
      "    --> False:\n",
      "       Predict Counter({'Apple': 1})\n",
      "--> False:\n",
      "   Predict Counter({'Grape': 3})\n",
      "\n"
     ]
    }
   ],
   "source": [
    "training_data = [\n",
    "    ['Green', 3, 'Apple'],\n",
    "    ['Yellow', 3, 'Apple'],\n",
    "    ['Red', 1, 'Grape'],\n",
    "    ['Red', 1, 'Grape'],\n",
    "    ['Yellow', 3, 'Lemon'],\n",
    "]\n",
    "\n",
    "header = [\"color\", \"diameter\", \"label\"]\n",
    "my_tree = build_tree(training_data)\n",
    "print(\"Decision Tree:\")\n",
    "print_tree(my_tree)\n",
    "print()\n",
    "\n",
    "random_forest = RandomForest(num_trees=3)\n",
    "random_forest.fit(training_data)\n",
    "\n",
    "print(\"Random Forest:\")\n",
    "for i, tree in enumerate(random_forest.trees):\n",
    "    print(\"Tree\", i + 1)\n",
    "    print_tree(tree)\n",
    "    print()"
   ]
  },
  {
   "cell_type": "code",
   "execution_count": 93,
   "metadata": {},
   "outputs": [
    {
     "name": "stdout",
     "output_type": "stream",
     "text": [
      "Random Forest Predictions:\n",
      "Sample: ['Green', 3, 'Apple']\n",
      "Predicted Label: {'Apple': '100%'}\n",
      "\n",
      "Sample: ['Yellow', 4, 'Apple']\n",
      "Predicted Label: {'Lemon': '100%'}\n",
      "\n",
      "Sample: ['Red', 2, 'Grape']\n",
      "Predicted Label: {'Grape': '100%'}\n",
      "\n",
      "Sample: ['Red', 1, 'Grape']\n",
      "Predicted Label: {'Grape': '100%'}\n",
      "\n",
      "Sample: ['Yellow', 3, 'Lemon']\n",
      "Predicted Label: {'Lemon': '100%'}\n",
      "\n",
      "Sample: ['Red', 1, 'Grape']\n",
      "Predicted Label: {'Grape': '100%'}\n",
      "\n"
     ]
    }
   ],
   "source": [
    "testing_data = [\n",
    "    ['Green', 3, 'Apple'],\n",
    "    ['Yellow', 4, 'Apple'],\n",
    "    ['Red', 2, 'Grape'],\n",
    "    ['Red', 1, 'Grape'],\n",
    "    ['Yellow', 3, 'Lemon'],\n",
    "    ['Red', 1, 'Grape']\n",
    "    ]\n",
    "\n",
    "print(\"Random Forest Predictions:\")\n",
    "for sample in testing_data:\n",
    "    prediction = random_forest.predict(sample)\n",
    "    print(\"Sample:\", sample)\n",
    "    print(\"Predicted Label:\", prediction)\n",
    "    print()\n"
   ]
  }
 ],
 "metadata": {
  "kernelspec": {
   "display_name": "Concepts",
   "language": "python",
   "name": "python3"
  },
  "language_info": {
   "codemirror_mode": {
    "name": "ipython",
    "version": 3
   },
   "file_extension": ".py",
   "mimetype": "text/x-python",
   "name": "python",
   "nbconvert_exporter": "python",
   "pygments_lexer": "ipython3",
   "version": "3.11.2"
  },
  "orig_nbformat": 4
 },
 "nbformat": 4,
 "nbformat_minor": 2
}
